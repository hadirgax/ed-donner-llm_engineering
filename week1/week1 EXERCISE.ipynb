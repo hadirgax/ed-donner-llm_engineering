{
 "cells": [
  {
   "cell_type": "markdown",
   "id": "fe12c203-e6a6-452c-a655-afb8a03a4ff5",
   "metadata": {},
   "source": [
    "# End of week 1 exercise\n",
    "\n",
    "To demonstrate your familiarity with OpenAI API, and also Ollama, build a tool that takes a technical question,  \n",
    "and responds with an explanation. This is a tool that you will be able to use yourself during the course!"
   ]
  },
  {
   "cell_type": "code",
   "execution_count": 1,
   "id": "c1070317-3ed9-4659-abe3-828943230e03",
   "metadata": {},
   "outputs": [],
   "source": [
    "# imports\n",
    "\n",
    "from dotenv import load_dotenv\n",
    "from IPython.display import Markdown, display, update_display\n",
    "from openai import OpenAI\n",
    "import ollama"
   ]
  },
  {
   "cell_type": "code",
   "execution_count": 2,
   "id": "4a456906-915a-4bfd-bb9d-57e505c5093f",
   "metadata": {},
   "outputs": [],
   "source": [
    "# constants\n",
    "\n",
    "MODEL_GPT = 'gpt-4o-mini'\n",
    "MODEL_LLAMA = 'llama3.2'"
   ]
  },
  {
   "cell_type": "code",
   "execution_count": 3,
   "id": "a8d7923c-5f28-4c30-8556-342d7c8497c1",
   "metadata": {},
   "outputs": [],
   "source": [
    "# set up environment\n",
    "\n",
    "load_dotenv()\n",
    "openai = OpenAI()"
   ]
  },
  {
   "cell_type": "code",
   "execution_count": 4,
   "id": "3f0d0137-52b0-47a8-81a8-11a90a010798",
   "metadata": {},
   "outputs": [],
   "source": [
    "# here is the question; type over this to ask something new\n",
    "\n",
    "question = \"\"\"\n",
    "Please explain what this code does and why:\n",
    "yield from {book.get(\"author\") for book in books if book.get(\"author\")}\n",
    "\"\"\""
   ]
  },
  {
   "cell_type": "code",
   "execution_count": 5,
   "id": "8c650b8f",
   "metadata": {},
   "outputs": [],
   "source": [
    "# prompts\n",
    "\n",
    "system_prompt = \"You are a helpful technical tutor who answers questions about python code, software engineering, data science and LLMs\"\n",
    "user_prompt = \"Please give a detailed explanation to the following question: \" + question"
   ]
  },
  {
   "cell_type": "code",
   "execution_count": 6,
   "id": "3a534e27",
   "metadata": {},
   "outputs": [],
   "source": [
    "# messages\n",
    "\n",
    "messages = [\n",
    "    {\"role\": \"system\", \"content\": system_prompt},\n",
    "    {\"role\": \"user\", \"content\": user_prompt}\n",
    "]"
   ]
  },
  {
   "cell_type": "code",
   "execution_count": null,
   "id": "60ce7000-a4a5-4cce-a261-e75ef45063b4",
   "metadata": {},
   "outputs": [],
   "source": [
    "# Get gpt-4o-mini to answer, with streaming"
   ]
  },
  {
   "cell_type": "code",
   "execution_count": 7,
   "id": "8f7c8ea8-4082-4ad0-8751-3301adcf6538",
   "metadata": {},
   "outputs": [
    {
     "data": {
      "text/markdown": [
       "**Declarative Generator Expression**\n",
       "\n",
       "The given code snippet is an example of a declarative generator expression, also known as a \"generator comprehension.\" It's used to generate a sequence of values from an iterable.\n",
       "\n",
       "```python\n",
       "yield from {book.get(\"author\") for book in books if book.get(\"author\")}\n",
       "```\n",
       "\n",
       "**Breaking Down the Code:**\n",
       "\n",
       "1. `for book in books`: This part iterates over each item (`book`) in the `books` collection.\n",
       "2. `if book.get(\"author\")`: For each `book`, this conditional checks whether a key named `\"author\"` exists in the dictionary representation of the book (`book`). If it does, then...\n",
       "3. `{book.get(\"author\")}`: This part generates a set containing only the value associated with the `\"author\"` key for that particular book.\n",
       "\n",
       "**`yield from` Statement:**\n",
       "\n",
       "The `yield from` statement is used to delegate the creation of an iterator to another iterable. It's similar to `yield`, but instead of producing a single value, it produces a sequence of values from the delegated iterable.\n",
       "\n",
       "In this case, when `yield from` encounters a yielded value (a generator expression like `{...}`), it yields each item in that set individually, one by one.\n",
       "\n",
       "**Effect:**\n",
       "\n",
       "When executed, this code will:\n",
       "\n",
       "1. Iterate over the `books` collection.\n",
       "2. For each book with an existing `\"author\"` key:\n",
       "\t* Generate a set containing only the author's name (`{book.get(\"author\")}`).\n",
       "\t* Yield each value in that set individually using `yield from`.\n",
       "\n",
       "**Example Walkthrough:**\n",
       "\n",
       "Suppose we have a list of books like this:\n",
       "\n",
       "```python\n",
       "books = [\n",
       "    {\"id\": 1, \"title\": \"Book 1\", \"author\": \"John Doe\"},\n",
       "    {\"id\": 2, \"title\": \"Book 2\", \"author\": None},\n",
       "    {\"id\": 3, \"title\": \"Book 3\", \"author\": \"Jane Smith\"}\n",
       "]\n",
       "```\n",
       "\n",
       "When we execute the generator expression:\n",
       "\n",
       "```python\n",
       "yield from {book.get(\"author\") for book in books if book.get(\"author\")}\n",
       "```\n",
       "\n",
       "The output would be an iterator that yields `[\"John Doe\", None, \"Jane Smith\"]`, which are the author names of books with existing `\"author\"` keys.\n",
       "\n",
       "This code can be useful when you need to process a collection of objects, and you only care about specific attributes (like authors) from those objects. It's particularly handy in scenarios where you want to filter or transform data before processing it further."
      ],
      "text/plain": [
       "<IPython.core.display.Markdown object>"
      ]
     },
     "metadata": {},
     "output_type": "display_data"
    }
   ],
   "source": [
    "# Get Llama 3.2 to answer\n",
    "\n",
    "response = ollama.chat(model=MODEL_LLAMA, messages=messages)\n",
    "reply = response['message']['content']\n",
    "display(Markdown(reply))"
   ]
  }
 ],
 "metadata": {
  "kernelspec": {
   "display_name": "llmeng",
   "language": "python",
   "name": "python3"
  },
  "language_info": {
   "codemirror_mode": {
    "name": "ipython",
    "version": 3
   },
   "file_extension": ".py",
   "mimetype": "text/x-python",
   "name": "python",
   "nbconvert_exporter": "python",
   "pygments_lexer": "ipython3",
   "version": "3.12.8"
  }
 },
 "nbformat": 4,
 "nbformat_minor": 5
}
