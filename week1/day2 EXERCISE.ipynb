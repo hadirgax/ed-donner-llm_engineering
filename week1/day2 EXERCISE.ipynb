{
 "cells": [
  {
   "cell_type": "markdown",
   "id": "d15d8294-3328-4e07-ad16-8a03e9bbfdb9",
   "metadata": {},
   "source": [
    "# Welcome to your first assignment!\n",
    "\n",
    "Instructions are below. Please give this a try, and look in the solutions folder if you get stuck (or feel free to ask me!)"
   ]
  },
  {
   "cell_type": "markdown",
   "id": "ada885d9-4d42-4d9b-97f0-74fbbbfe93a9",
   "metadata": {},
   "source": [
    "<table style=\"margin: 0; text-align: left;\">\n",
    "    <tr>\n",
    "        <td style=\"width: 150px; height: 150px; vertical-align: middle;\">\n",
    "            <img src=\"../resources.jpg\" width=\"150\" height=\"150\" style=\"display: block;\" />\n",
    "        </td>\n",
    "        <td>\n",
    "            <h2 style=\"color:#f71;\">Just before we get to the assignment --</h2>\n",
    "            <span style=\"color:#f71;\">I thought I'd take a second to point you at this page of useful resources for the course. This includes links to all the slides.<br/>\n",
    "            <a href=\"https://edwarddonner.com/2024/11/13/llm-engineering-resources/\">https://edwarddonner.com/2024/11/13/llm-engineering-resources/</a><br/>\n",
    "            Please keep this bookmarked, and I'll continue to add more useful links there over time.\n",
    "            </span>\n",
    "        </td>\n",
    "    </tr>\n",
    "</table>"
   ]
  },
  {
   "cell_type": "markdown",
   "id": "6e9fa1fc-eac5-4d1d-9be4-541b3f2b3458",
   "metadata": {},
   "source": [
    "# HOMEWORK EXERCISE ASSIGNMENT\n",
    "\n",
    "Upgrade the day 1 project to summarize a webpage to use an Open Source model running locally via Ollama rather than OpenAI\n",
    "\n",
    "You'll be able to use this technique for all subsequent projects if you'd prefer not to use paid APIs.\n",
    "\n",
    "**Benefits:**\n",
    "1. No API charges - open-source\n",
    "2. Data doesn't leave your box\n",
    "\n",
    "**Disadvantages:**\n",
    "1. Significantly less power than Frontier Model\n",
    "\n",
    "## Recap on installation of Ollama\n",
    "\n",
    "Simply visit [ollama.com](https://ollama.com) and install!\n",
    "\n",
    "Once complete, the ollama server should already be running locally.  \n",
    "If you visit:  \n",
    "[http://localhost:11434/](http://localhost:11434/)\n",
    "\n",
    "You should see the message `Ollama is running`.  \n",
    "\n",
    "If not, bring up a new Terminal (Mac) or Powershell (Windows) and enter `ollama serve`  \n",
    "And in another Terminal (Mac) or Powershell (Windows), enter `ollama pull llama3.2`  \n",
    "Then try [http://localhost:11434/](http://localhost:11434/) again.\n",
    "\n",
    "If Ollama is slow on your machine, try using `llama3.2:1b` as an alternative. Run `ollama pull llama3.2:1b` from a Terminal or Powershell, and change the code below from `MODEL = \"llama3.2\"` to `MODEL = \"llama3.2:1b\"`"
   ]
  },
  {
   "cell_type": "code",
   "execution_count": 1,
   "id": "4e2a9393-7767-488e-a8bf-27c12dca35bd",
   "metadata": {},
   "outputs": [],
   "source": [
    "# imports\n",
    "\n",
    "import requests\n",
    "from bs4 import BeautifulSoup\n",
    "from IPython.display import Markdown, display"
   ]
  },
  {
   "cell_type": "code",
   "execution_count": 2,
   "id": "29ddd15d-a3c5-4f4e-a678-873f56162724",
   "metadata": {},
   "outputs": [],
   "source": [
    "# Constants\n",
    "\n",
    "OLLAMA_API = \"http://localhost:11434/api/chat\"\n",
    "HEADERS = {\"Content-Type\": \"application/json\"}\n",
    "MODEL = \"llama3.2\""
   ]
  },
  {
   "cell_type": "code",
   "execution_count": 3,
   "id": "dac0a679-599c-441f-9bf2-ddc73d35b940",
   "metadata": {},
   "outputs": [],
   "source": [
    "# Create a messages list using the same format that we used for OpenAI\n",
    "\n",
    "messages = [\n",
    "    {\"role\": \"user\", \"content\": \"Describe some of the business applications of Generative AI\"}\n",
    "]"
   ]
  },
  {
   "cell_type": "code",
   "execution_count": 4,
   "id": "7bb9c624-14f0-4945-a719-8ddb64f66f47",
   "metadata": {},
   "outputs": [],
   "source": [
    "payload = {\n",
    "    \"model\": MODEL,\n",
    "    \"messages\": messages,\n",
    "    \"stream\": False\n",
    "}"
   ]
  },
  {
   "cell_type": "code",
   "execution_count": null,
   "id": "479ff514-e8bd-4985-a572-2ea28bb4fa40",
   "metadata": {},
   "outputs": [
    {
     "name": "stdout",
     "output_type": "stream",
     "text": [
      "/bin/bash: line 1: ollama: command not found\n"
     ]
    }
   ],
   "source": [
    "# Let's just make sure the model is loaded\n",
    "\n",
    "!ollama pull llama3.2"
   ]
  },
  {
   "cell_type": "code",
   "execution_count": 5,
   "id": "42b9f644-522d-4e05-a691-56e7658c0ea9",
   "metadata": {},
   "outputs": [
    {
     "name": "stdout",
     "output_type": "stream",
     "text": [
      "Generative AI has numerous business applications across various industries. Here are some examples:\n",
      "\n",
      "1. **Content Creation**: Generative AI can generate high-quality content such as articles, blog posts, social media posts, and even entire books. This can help businesses save time and money on content creation, while also improving the consistency and quality of their content.\n",
      "2. **Marketing Automation**: Generative AI can be used to create personalized marketing messages, product recommendations, and customer personas. This can help businesses personalize their marketing efforts and improve their return on investment (ROI).\n",
      "3. **Customer Service Chatbots**: Generative AI-powered chatbots can understand natural language and respond to customer inquiries in a more human-like way. This can help businesses provide 24/7 customer support and improve the overall customer experience.\n",
      "4. **Product Design and Development**: Generative AI can be used to design and develop new products, such as furniture, clothing, or even entire buildings. This can help businesses reduce their design and development costs while improving the quality of their products.\n",
      "5. **Financial Analysis and Planning**: Generative AI can analyze large amounts of financial data and provide insights and recommendations for business decision-making. This can help businesses make more informed investment decisions and improve their overall financial performance.\n",
      "6. **Data Analysis and Visualization**: Generative AI can be used to analyze and visualize large datasets, such as customer behavior or market trends. This can help businesses gain a better understanding of their customers and markets, while also identifying new business opportunities.\n",
      "7. **Supply Chain Optimization**: Generative AI can optimize supply chains by analyzing data on demand, inventory levels, and logistics costs. This can help businesses reduce their costs and improve their overall efficiency.\n",
      "8. **Cybersecurity Threat Detection**: Generative AI can be used to detect and analyze cybersecurity threats in real-time. This can help businesses identify potential security risks and take proactive measures to protect their networks and systems.\n",
      "9. **Sales Forecasting**: Generative AI can analyze sales data and predict future sales trends, helping businesses make more informed forecasting decisions.\n",
      "10. **Innovation Generation**: Generative AI can be used to generate new ideas for products, services, or business models. This can help businesses stay ahead of the competition and identify new opportunities for growth.\n",
      "\n",
      "Some specific examples of companies using Generative AI include:\n",
      "\n",
      "* **Google's Dreamstormer**: A generative AI system that generates text based on a given prompt.\n",
      "* **Microsoft's Turing-NLG**: A natural language generation (NLG) platform that can generate human-like text.\n",
      "* **Amazon's Lex**: A conversational AI service that can analyze and respond to customer inquiries.\n",
      "\n",
      "These are just a few examples of the many business applications of Generative AI. As the technology continues to evolve, we can expect to see even more innovative uses in various industries.\n"
     ]
    }
   ],
   "source": [
    "# If this doesn't work for any reason, try the 2 versions in the following cells\n",
    "# And double check the instructions in the 'Recap on installation of Ollama' at the top of this lab\n",
    "# And if none of that works - contact me!\n",
    "\n",
    "response = requests.post(OLLAMA_API, json=payload, headers=HEADERS)\n",
    "print(response.json()['message']['content'])"
   ]
  },
  {
   "cell_type": "markdown",
   "id": "6a021f13-d6a1-4b96-8e18-4eae49d876fe",
   "metadata": {},
   "source": [
    "# Introducing the ollama package\n",
    "\n",
    "And now we'll do the same thing, but using the elegant ollama python package instead of a direct HTTP call.\n",
    "\n",
    "Under the hood, it's making the same call as above to the ollama server running at localhost:11434"
   ]
  },
  {
   "cell_type": "code",
   "execution_count": 6,
   "id": "7745b9c4-57dc-4867-9180-61fa5db55eb8",
   "metadata": {},
   "outputs": [
    {
     "name": "stdout",
     "output_type": "stream",
     "text": [
      "Generative AI has numerous business applications across various industries, including:\n",
      "\n",
      "1. **Content Creation**: Generative AI can be used to generate high-quality content such as articles, blog posts, social media posts, and even entire books. This can help businesses save time and resources while maintaining consistency in their content.\n",
      "2. **Product Design**: Generative AI can be used to design new products, such as furniture, jewelry, or electronics. It can also be used to generate 3D models and prototypes for product development.\n",
      "3. **Marketing Automation**: Generative AI can be used to create personalized marketing messages, emails, and social media posts that are tailored to individual customers' interests and preferences.\n",
      "4. **Customer Service Chatbots**: Generative AI can be used to power chatbots that provide 24/7 customer support and help resolve simple queries quickly.\n",
      "5. **Personalized Recommendations**: Generative AI can be used to generate personalized product recommendations for e-commerce websites, based on customers' browsing history and purchase behavior.\n",
      "6. **Image and Video Editing**: Generative AI can be used to edit images and videos by removing unwanted objects, adjusting colors, or adding special effects.\n",
      "7. **Audio and Music Generation**: Generative AI can be used to generate new music tracks, audio loops, or even create custom sound effects for films and video games.\n",
      "8. **Data Analysis and Visualization**: Generative AI can be used to analyze large datasets and generate visualizations that help businesses understand complex trends and patterns.\n",
      "9. **Predictive Maintenance**: Generative AI can be used to predict equipment failures and schedule maintenance accordingly, reducing downtime and increasing overall efficiency.\n",
      "10. **Creative Writing**: Generative AI can be used to generate creative writing such as poetry, short stories, or even entire scripts for films or plays.\n",
      "\n",
      "Some of the industries that are particularly well-suited for generative AI include:\n",
      "\n",
      "1. **Media and Entertainment**: Generative AI can help create new content, edit images and videos, and even generate music tracks.\n",
      "2. **E-commerce**: Generative AI can be used to personalize product recommendations, create personalized marketing messages, and analyze customer behavior.\n",
      "3. **Finance and Banking**: Generative AI can be used to predict market trends, detect anomalies in financial data, and optimize investment portfolios.\n",
      "4. **Healthcare**: Generative AI can be used to analyze medical images, generate new treatments, and personalize patient care plans.\n",
      "5. **Manufacturing**: Generative AI can be used to design new products, optimize production workflows, and predict equipment failures.\n",
      "\n",
      "Overall, generative AI has the potential to transform many industries by automating repetitive tasks, generating new ideas, and providing personalized experiences for customers.\n"
     ]
    }
   ],
   "source": [
    "import ollama\n",
    "\n",
    "response = ollama.chat(model=MODEL, messages=messages)\n",
    "print(response['message']['content'])"
   ]
  },
  {
   "cell_type": "markdown",
   "id": "a4704e10-f5fb-4c15-a935-f046c06fb13d",
   "metadata": {},
   "source": [
    "## Alternative approach - using OpenAI python library to connect to Ollama"
   ]
  },
  {
   "cell_type": "code",
   "execution_count": 7,
   "id": "23057e00-b6fc-4678-93a9-6b31cb704bff",
   "metadata": {},
   "outputs": [
    {
     "name": "stdout",
     "output_type": "stream",
     "text": [
      "Generative AI (GA) has numerous exciting business applications across various industries. Here are some examples:\n",
      "\n",
      "1. **Content Creation**: GA algorithms can generate high-quality content, such as news articles, social media posts, product descriptions, and even entire books. Companies like WordLift and Content Blossom use GA to produce engaging content for websites and blogs.\n",
      "2. **Personalized Product Recommendations**: Generative AI tools like Google Lens and Amazon's SageMaker can analyze products' features and generate personalized product recommendations based on user behavior and preferences.\n",
      "3. **Chatbots and Virtual Assistants**: GA enables the creation of highly realistic chatbots and virtual assistants that can mimic human-like conversations, improving customer experience and support for businesses like Microsoft, IBM, and Google.\n",
      "4. **Marketing and Advertising**: Generative AI algorithms can generate personalized ads, product descriptions, and even entire campaigns using data from social media platforms and market trends.\n",
      "5. **Creative Agencies and Design**: GA tools like Deep Dream Generator and Prisma allow designers to create innovative designs and visuals by generating artistic patterns, textures, and images.\n",
      "6. **Language Translation and Localization**: Generative AI can generate translations for companies with global operations, ensuring more accurate and contextually relevant content in multiple languages.\n",
      "7. **Music and Audio Generation**: Music streaming services like Amper Music use GA to generate original music compositions for marketing campaigns, videos, or ads.\n",
      "8. **Film and Video Production**: Generative AI tools like Wibbitz and Raw Shorts can create animated explainer videos, social media clips, and other visual content with high production value on tight deadlines.\n",
      "9. **Data Analysis and Insights**: GA algorithms can analyze vast amounts of data to provide actionable insights for businesses, helping them optimize operations, predict customer behavior, and make informed decisions.\n",
      "10. **Virtual Training and Education**: Generative AI-powered tools like DreamBox Learning create personalized learning experiences for students, providing real-time feedback and adaptive assessments.\n",
      "\n",
      "Some notable companies using Generative AI in their business applications include:\n",
      "\n",
      "* Google (Google Photos, Google Lens)\n",
      "* Amazon (SageMaker, Alexa Virtual Assistant)\n",
      "* Microsoft (Lumia Camera, Mixer Games)\n",
      "* IBM (Watson Assistant, Watson Studio)\n",
      "* Facebook (LLaMAP, Facebook Bot)\n",
      "* Netflix (Content generation for personalized recommendations)\n",
      "\n",
      "These examples illustrate the vast potential of Generative AI to transform businesses across various industries by improving efficiency, customer experience, and overall productivity.\n"
     ]
    }
   ],
   "source": [
    "# There's actually an alternative approach that some people might prefer\n",
    "# You can use the OpenAI client python library to call Ollama:\n",
    "\n",
    "from openai import OpenAI\n",
    "ollama_via_openai = OpenAI(base_url='http://localhost:11434/v1', api_key='ollama')\n",
    "\n",
    "response = ollama_via_openai.chat.completions.create(\n",
    "    model=MODEL,\n",
    "    messages=messages\n",
    ")\n",
    "\n",
    "print(response.choices[0].message.content)"
   ]
  },
  {
   "cell_type": "markdown",
   "id": "1622d9bb-5c68-4d4e-9ca4-b492c751f898",
   "metadata": {},
   "source": [
    "# NOW the exercise for you\n",
    "\n",
    "Take the code from day1 and incorporate it here, to build a website summarizer that uses Llama 3.2 running locally instead of OpenAI; use either of the above approaches."
   ]
  },
  {
   "cell_type": "code",
   "execution_count": 8,
   "id": "402d5686-4e76-4110-b65a-b3906c35c0a4",
   "metadata": {},
   "outputs": [],
   "source": [
    "# imports\n",
    "\n",
    "import os\n",
    "import requests\n",
    "from dotenv import load_dotenv\n",
    "from bs4 import BeautifulSoup\n",
    "from IPython.display import Markdown, display\n",
    "from openai import OpenAI"
   ]
  },
  {
   "cell_type": "code",
   "execution_count": 9,
   "id": "56fb5852",
   "metadata": {},
   "outputs": [],
   "source": [
    "# A class to represent a Webpage\n",
    "# If you're not familiar with Classes, check out the \"Intermediate Python\" notebook\n",
    "\n",
    "# Some websites need you to use proper headers when fetching them:\n",
    "headers = {\n",
    " \"User-Agent\": \"Mozilla/5.0 (Windows NT 10.0; Win64; x64) AppleWebKit/537.36 (KHTML, like Gecko) Chrome/117.0.0.0 Safari/537.36\"\n",
    "}\n",
    "\n",
    "class Website:\n",
    "    def __init__(self, url):\n",
    "        \"\"\"\n",
    "        Create this Website object from the given url using the BeautifulSoup library\n",
    "        \"\"\"\n",
    "        self.url = url\n",
    "        response = requests.get(url, headers=headers)\n",
    "        soup = BeautifulSoup(response.content, 'html.parser')\n",
    "        self.title = soup.title.string if soup.title else \"No title found\"\n",
    "        for irrelevant in soup.body([\"script\", \"style\", \"img\", \"input\"]):\n",
    "            irrelevant.decompose()\n",
    "        self.text = soup.body.get_text(separator=\"\\n\", strip=True)"
   ]
  },
  {
   "cell_type": "code",
   "execution_count": 10,
   "id": "08a4c1bc",
   "metadata": {},
   "outputs": [],
   "source": [
    "# Define our system prompt - you can experiment with this later, changing the last sentence to 'Respond in markdown in Spanish.\"\n",
    "\n",
    "system_prompt = (\n",
    "    \"You are an assistant that analyzes the contents of a website\"\n",
    "    \"and provides a short summary, ignoring text that might be navigation related.\"\n",
    "    \"Respond in markdown.\"\n",
    ")"
   ]
  },
  {
   "cell_type": "code",
   "execution_count": 11,
   "id": "70491637",
   "metadata": {},
   "outputs": [],
   "source": [
    "# A function that writes a User Prompt that asks for summaries of websites:\n",
    "\n",
    "def user_prompt_for(website):\n",
    "    user_prompt = f\"You are looking at a website titled {website.title}\"\n",
    "    user_prompt += (\n",
    "        \"\\nThe contents of this website is as follows;\"\n",
    "        \"please provide a short summary of this website in markdown.\"\n",
    "        \"If it includes news or announcements, then summarize these too.\\n\\n\"\n",
    "    )\n",
    "    user_prompt += website.text\n",
    "    return user_prompt"
   ]
  },
  {
   "cell_type": "code",
   "execution_count": 12,
   "id": "4f878c86",
   "metadata": {},
   "outputs": [],
   "source": [
    "# See how this function creates exactly the format above\n",
    "\n",
    "def messages_for(website):\n",
    "    return [\n",
    "        {\"role\": \"system\", \"content\": system_prompt},\n",
    "        {\"role\": \"user\", \"content\": user_prompt_for(website)}\n",
    "    ]"
   ]
  },
  {
   "cell_type": "code",
   "execution_count": 13,
   "id": "29c22417",
   "metadata": {},
   "outputs": [],
   "source": [
    "# And now: call the OpenAI API. You will get very familiar with this!\n",
    "\n",
    "def summarize(url):\n",
    "    website = Website(url)\n",
    "    ollama_via_openai = OpenAI(base_url='http://localhost:11434/v1', api_key='ollama')\n",
    "    response = ollama_via_openai.chat.completions.create(\n",
    "        model=MODEL,\n",
    "        messages=messages_for(website)\n",
    "    )\n",
    "    return response.choices[0].message.content"
   ]
  },
  {
   "cell_type": "code",
   "execution_count": 14,
   "id": "953f504a",
   "metadata": {},
   "outputs": [],
   "source": [
    "# A function to display this nicely in the Jupyter output, using markdown\n",
    "\n",
    "def display_summary(url):\n",
    "    summary = summarize(url)\n",
    "    display(Markdown(summary))"
   ]
  },
  {
   "cell_type": "code",
   "execution_count": 15,
   "id": "e440c83c",
   "metadata": {},
   "outputs": [
    {
     "data": {
      "text/markdown": [
       "**Summary**\n",
       "===============\n",
       "\n",
       "*   The website is maintained by Edward Donner, a co-founder and CTO of Nebula.io.\n",
       "*   Nebula.io applies AI to help people discover their potential and pursue their reason for being.\n",
       "*   They develop proprietary LLMs verticalized in the field of talent acquisition and management.\n",
       "\n",
       "**News/Announcements**\n",
       "=============================\n",
       "\n",
       "*   **Welcome, SuperDataScientists! (December 21, 2024)**: A message from Edward to his audience, possibly announcing a new initiative or community.\n",
       "*   **Mastering AI and LLM Engineering – Resources (October 16, 2024)**: Edward shares resources that can help professionals master AI and LLM engineering.\n",
       "*   **From Software Engineer to AI Data Scientist – resources (August 6, 2024)**: Another resource sharing post by Edward on transitioning into an AI Data Scientist role.\n",
       "*   **Outsmart LLM Arena – a battle of diplomacy and deviousness**: An arena where LLMs compete in diplomacy and cunning challenges. This seems to be more of a showcase or entertainment feature rather than a news announcement.\n",
       "\n",
       "Note: There are no recent news announcements, but a welcome message targeting the \"SuperDataScientists\" audience."
      ],
      "text/plain": [
       "<IPython.core.display.Markdown object>"
      ]
     },
     "metadata": {},
     "output_type": "display_data"
    }
   ],
   "source": [
    "display_summary(\"https://edwarddonner.com\")"
   ]
  }
 ],
 "metadata": {
  "kernelspec": {
   "display_name": "llmeng",
   "language": "python",
   "name": "python3"
  },
  "language_info": {
   "codemirror_mode": {
    "name": "ipython",
    "version": 3
   },
   "file_extension": ".py",
   "mimetype": "text/x-python",
   "name": "python",
   "nbconvert_exporter": "python",
   "pygments_lexer": "ipython3",
   "version": "3.12.8"
  }
 },
 "nbformat": 4,
 "nbformat_minor": 5
}
