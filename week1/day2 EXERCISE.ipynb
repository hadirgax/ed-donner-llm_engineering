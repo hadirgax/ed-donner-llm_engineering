{
 "cells": [
  {
   "cell_type": "markdown",
   "id": "d15d8294-3328-4e07-ad16-8a03e9bbfdb9",
   "metadata": {},
   "source": [
    "# Welcome to your first assignment!\n",
    "\n",
    "Instructions are below. Please give this a try, and look in the solutions folder if you get stuck (or feel free to ask me!)"
   ]
  },
  {
   "cell_type": "markdown",
   "id": "ada885d9-4d42-4d9b-97f0-74fbbbfe93a9",
   "metadata": {},
   "source": [
    "<table style=\"margin: 0; text-align: left;\">\n",
    "    <tr>\n",
    "        <td style=\"width: 150px; height: 150px; vertical-align: middle;\">\n",
    "            <img src=\"../resources.jpg\" width=\"150\" height=\"150\" style=\"display: block;\" />\n",
    "        </td>\n",
    "        <td>\n",
    "            <h2 style=\"color:#f71;\">Just before we get to the assignment --</h2>\n",
    "            <span style=\"color:#f71;\">I thought I'd take a second to point you at this page of useful resources for the course. This includes links to all the slides.<br/>\n",
    "            <a href=\"https://edwarddonner.com/2024/11/13/llm-engineering-resources/\">https://edwarddonner.com/2024/11/13/llm-engineering-resources/</a><br/>\n",
    "            Please keep this bookmarked, and I'll continue to add more useful links there over time.\n",
    "            </span>\n",
    "        </td>\n",
    "    </tr>\n",
    "</table>"
   ]
  },
  {
   "cell_type": "markdown",
   "id": "6e9fa1fc-eac5-4d1d-9be4-541b3f2b3458",
   "metadata": {},
   "source": [
    "# HOMEWORK EXERCISE ASSIGNMENT\n",
    "\n",
    "Upgrade the day 1 project to summarize a webpage to use an Open Source model running locally via Ollama rather than OpenAI\n",
    "\n",
    "You'll be able to use this technique for all subsequent projects if you'd prefer not to use paid APIs.\n",
    "\n",
    "**Benefits:**\n",
    "1. No API charges - open-source\n",
    "2. Data doesn't leave your box\n",
    "\n",
    "**Disadvantages:**\n",
    "1. Significantly less power than Frontier Model\n",
    "\n",
    "## Recap on installation of Ollama\n",
    "\n",
    "Simply visit [ollama.com](https://ollama.com) and install!\n",
    "\n",
    "Once complete, the ollama server should already be running locally.  \n",
    "If you visit:  \n",
    "[http://localhost:11434/](http://localhost:11434/)\n",
    "\n",
    "You should see the message `Ollama is running`.  \n",
    "\n",
    "If not, bring up a new Terminal (Mac) or Powershell (Windows) and enter `ollama serve`  \n",
    "And in another Terminal (Mac) or Powershell (Windows), enter `ollama pull llama3.2`  \n",
    "Then try [http://localhost:11434/](http://localhost:11434/) again.\n",
    "\n",
    "If Ollama is slow on your machine, try using `llama3.2:1b` as an alternative. Run `ollama pull llama3.2:1b` from a Terminal or Powershell, and change the code below from `MODEL = \"llama3.2\"` to `MODEL = \"llama3.2:1b\"`"
   ]
  },
  {
   "cell_type": "code",
   "execution_count": 1,
   "id": "4e2a9393-7767-488e-a8bf-27c12dca35bd",
   "metadata": {},
   "outputs": [],
   "source": [
    "# imports\n",
    "\n",
    "import requests\n",
    "from bs4 import BeautifulSoup\n",
    "from IPython.display import Markdown, display"
   ]
  },
  {
   "cell_type": "code",
   "execution_count": 2,
   "id": "29ddd15d-a3c5-4f4e-a678-873f56162724",
   "metadata": {},
   "outputs": [],
   "source": [
    "# Constants\n",
    "\n",
    "OLLAMA_API = \"http://localhost:11434/api/chat\"\n",
    "HEADERS = {\"Content-Type\": \"application/json\"}\n",
    "MODEL = \"llama3.2\""
   ]
  },
  {
   "cell_type": "code",
   "execution_count": 3,
   "id": "dac0a679-599c-441f-9bf2-ddc73d35b940",
   "metadata": {},
   "outputs": [],
   "source": [
    "# Create a messages list using the same format that we used for OpenAI\n",
    "\n",
    "messages = [\n",
    "    {\"role\": \"user\", \"content\": \"Describe some of the business applications of Generative AI\"}\n",
    "]"
   ]
  },
  {
   "cell_type": "code",
   "execution_count": 4,
   "id": "7bb9c624-14f0-4945-a719-8ddb64f66f47",
   "metadata": {},
   "outputs": [],
   "source": [
    "payload = {\n",
    "    \"model\": MODEL,\n",
    "    \"messages\": messages,\n",
    "    \"stream\": False\n",
    "}"
   ]
  },
  {
   "cell_type": "code",
   "execution_count": 5,
   "id": "479ff514-e8bd-4985-a572-2ea28bb4fa40",
   "metadata": {},
   "outputs": [
    {
     "name": "stdout",
     "output_type": "stream",
     "text": [
      "/bin/bash: line 1: ollama: command not found\n"
     ]
    }
   ],
   "source": [
    "# Let's just make sure the model is loaded\n",
    "\n",
    "!ollama pull llama3.2"
   ]
  },
  {
   "cell_type": "code",
   "execution_count": 8,
   "id": "42b9f644-522d-4e05-a691-56e7658c0ea9",
   "metadata": {},
   "outputs": [
    {
     "name": "stdout",
     "output_type": "stream",
     "text": [
      "Generative AI has numerous business applications across various industries. Here are some examples:\n",
      "\n",
      "1. **Content Generation**: Generative AI can be used to generate high-quality content, such as articles, blog posts, social media posts, and product descriptions. This can help businesses save time and resources on content creation.\n",
      "2. **Product Design**: Generative AI can aid in designing new products by generating 3D models, prototypes, and even entire product lines. This can be particularly useful for companies in the aerospace, automotive, or electronics industries.\n",
      "3. **Marketing Automation**: Generative AI can help automate marketing efforts by generating personalized email campaigns, social media ads, and content. It can also analyze customer data to provide insights on market trends and preferences.\n",
      "4. **Customer Service Chatbots**: Generative AI-powered chatbots can be used to provide 24/7 customer support, answering common questions, and helping with transactions.\n",
      "5. **Data Analysis and Visualization**: Generative AI can help analyze large datasets and generate insights, reports, and visualizations to aid in business decision-making.\n",
      "6. **Music and Audio Generation**: Generative AI can create original music, sound effects, and even entire audio tracks for movies, video games, or advertisements.\n",
      "7. **Image and Video Generation**: Generative AI can produce high-quality images and videos for advertising campaigns, social media, or product promotion.\n",
      "8. **Language Translation**: Generative AI-powered translation tools can help businesses communicate with global customers and clients more effectively.\n",
      "9. **Predictive Maintenance**: Generative AI can analyze sensor data from machines to predict when maintenance is required, reducing downtime and increasing efficiency.\n",
      "10. **Fashion and Design**: Generative AI can be used to design new fashion trends, generate product lines, and even create original artwork.\n",
      "\n",
      "Some industries that are particularly well-suited for generative AI include:\n",
      "\n",
      "1. **Media and Entertainment**: To produce high-quality content, such as movies, TV shows, music, and audio tracks.\n",
      "2. **Marketing and Advertising**: To automate marketing efforts, generate personalized campaigns, and analyze customer data.\n",
      "3. **Finance and Banking**: To create personalized investment strategies, analyze market trends, and detect potential fraud.\n",
      "4. **Healthcare**: To analyze medical images, predict patient outcomes, and develop personalized treatment plans.\n",
      "5. **Manufacturing**: To optimize production processes, predict maintenance needs, and improve product quality.\n",
      "\n",
      "These are just a few examples of the many business applications of generative AI. As the technology continues to evolve, we can expect to see even more innovative uses across various industries.\n"
     ]
    }
   ],
   "source": [
    "# If this doesn't work for any reason, try the 2 versions in the following cells\n",
    "# And double check the instructions in the 'Recap on installation of Ollama' at the top of this lab\n",
    "# And if none of that works - contact me!\n",
    "\n",
    "response = requests.post(OLLAMA_API, json=payload, headers=HEADERS)\n",
    "print(response.json()['message']['content'])"
   ]
  },
  {
   "cell_type": "markdown",
   "id": "6a021f13-d6a1-4b96-8e18-4eae49d876fe",
   "metadata": {},
   "source": [
    "# Introducing the ollama package\n",
    "\n",
    "And now we'll do the same thing, but using the elegant ollama python package instead of a direct HTTP call.\n",
    "\n",
    "Under the hood, it's making the same call as above to the ollama server running at localhost:11434"
   ]
  },
  {
   "cell_type": "code",
   "execution_count": 9,
   "id": "7745b9c4-57dc-4867-9180-61fa5db55eb8",
   "metadata": {},
   "outputs": [
    {
     "name": "stdout",
     "output_type": "stream",
     "text": [
      "Generative AI has numerous business applications across various industries. Here are some examples:\n",
      "\n",
      "1. **Content Generation**: Generative AI can be used to generate high-quality content such as articles, social media posts, product descriptions, and more. This can help businesses save time and resources on content creation.\n",
      "2. **Marketing Automation**: Generative AI can automate marketing tasks such as email templates, subject lines, and ad copy. This can help businesses personalize their marketing efforts and increase engagement with customers.\n",
      "3. **Product Design and Development**: Generative AI can be used to design and develop new products, such as 3D models, product prototypes, and even entire product lines.\n",
      "4. **Customer Service Chatbots**: Generative AI can power chatbots that can respond to customer inquiries, provide support, and even resolve issues on their own.\n",
      "5. **Personalized Recommendations**: Generative AI can be used to generate personalized recommendations for customers based on their behavior, preferences, and purchase history.\n",
      "6. **Data Analysis and Visualization**: Generative AI can be used to analyze and visualize complex data sets, helping businesses gain insights and make better decisions.\n",
      "7. **Image and Video Generation**: Generative AI can be used to create high-quality images and videos for marketing campaigns, product launches, and other business applications.\n",
      "8. **Speech Synthesis**: Generative AI can be used to generate natural-sounding speech for voice assistants, audio recordings, and more.\n",
      "9. **Creative Writing and Storytelling**: Generative AI can be used to generate creative writing, such as poetry, stories, and even entire scripts.\n",
      "10. **Predictive Maintenance and Quality Control**: Generative AI can be used to predict equipment failures, detect quality issues, and optimize manufacturing processes.\n",
      "\n",
      "Some specific business applications of Generative AI include:\n",
      "\n",
      "* **Fashion and Apparel**: Designing clothing, generating product prototypes, and optimizing production workflows.\n",
      "* **Finance and Banking**: Generating financial reports, analyzing market trends, and creating personalized investment recommendations.\n",
      "* **Healthcare**: Developing personalized treatment plans, generating medical images, and predicting patient outcomes.\n",
      "* **Retail and E-commerce**: Personalizing customer experiences, generating product descriptions, and automating order fulfillment.\n",
      "* **Manufacturing and Logistics**: Optimizing production workflows, predicting supply chain disruptions, and generating maintenance schedules.\n",
      "\n",
      "These are just a few examples of the many business applications of Generative AI. As the technology continues to evolve, we can expect to see even more innovative uses across various industries.\n"
     ]
    }
   ],
   "source": [
    "import ollama\n",
    "\n",
    "response = ollama.chat(model=MODEL, messages=messages)\n",
    "print(response['message']['content'])"
   ]
  },
  {
   "cell_type": "markdown",
   "id": "a4704e10-f5fb-4c15-a935-f046c06fb13d",
   "metadata": {},
   "source": [
    "## Alternative approach - using OpenAI python library to connect to Ollama"
   ]
  },
  {
   "cell_type": "code",
   "execution_count": 10,
   "id": "23057e00-b6fc-4678-93a9-6b31cb704bff",
   "metadata": {},
   "outputs": [
    {
     "name": "stdout",
     "output_type": "stream",
     "text": [
      "Generative AI has numerous business applications across various industries. Here are some examples:\n",
      "\n",
      "1. **Content Generation**: Generative AI can be used to automatically generate content such as articles, social media posts, and product descriptions, saving time and resources for content creators.\n",
      "2. **Product Design**: Generative AI can assist in the design process by generating 3D models, logos, and packaging designs based on customer feedback and design parameters.\n",
      "3. **Chatbots and Virtual Assistants**: Generative AI can help create more sophisticated chatbots and virtual assistants that can understand user intent and respond accordingly.\n",
      "4. **Image and Video Generation**: Generative AI can be used to create graphics, videos, and animations for marketing materials, product demos, and website visuals.\n",
      "5. **Recommendation Systems**: Generative AI can analyze customer behavior and generate personalized product recommendations based on their preferences and past purchases.\n",
      "6. **Speech Synthesis**: Generative AI can generate voiceovers for audiobooks, podcasts, and commercials, as well as create custom speech sounds for video games and animation.\n",
      "7. **Audio Generation**: Generative AI can generate music, sound effects, and other audio content for film, television, and video game scores.\n",
      "8. **Data Augmentation**: Generative AI can augment existing datasets by generating new data points that mimic the patterns and characteristics of the original data, enhancing machine learning model performance.\n",
      "9. **Business Process Automation**: Generative AI can automate routine tasks such as reporting, forecasting, and compliance with regulatory requirements.\n",
      "10. **Marketing Personalization**: Generative AI can be used to create personalized marketing campaigns based on customer preferences, interests, and behavior.\n",
      "\n",
      "Industry-specific applications:\n",
      "\n",
      "1. **Finance and Banking**: Generated reports, statements, and market research analyses for investment decisions.\n",
      "2. **Healthcare**: Automated data annotation and data augmentation for medical imaging analysis and disease diagnosis.\n",
      "3. **Education**: Adaptive learning systems that generate customized educational content for students.\n",
      "4. **Manufacturing**: Design automation tools for product design, prototyping, and testing.\n",
      "5. **Retail**: Automated chatbots and virtual assistants for customer service and support.\n",
      "\n",
      "By leveraging generative AI, businesses can automate repetitive tasks, improve decision-making, and enhance customer experiences across various industries.\n"
     ]
    }
   ],
   "source": [
    "# There's actually an alternative approach that some people might prefer\n",
    "# You can use the OpenAI client python library to call Ollama:\n",
    "\n",
    "from openai import OpenAI\n",
    "ollama_via_openai = OpenAI(base_url='http://localhost:11434/v1', api_key='ollama')\n",
    "\n",
    "response = ollama_via_openai.chat.completions.create(\n",
    "    model=MODEL,\n",
    "    messages=messages\n",
    ")\n",
    "\n",
    "print(response.choices[0].message.content)"
   ]
  },
  {
   "cell_type": "markdown",
   "id": "1622d9bb-5c68-4d4e-9ca4-b492c751f898",
   "metadata": {},
   "source": [
    "# NOW the exercise for you\n",
    "\n",
    "Take the code from day1 and incorporate it here, to build a website summarizer that uses Llama 3.2 running locally instead of OpenAI; use either of the above approaches."
   ]
  },
  {
   "cell_type": "code",
   "execution_count": 11,
   "id": "402d5686-4e76-4110-b65a-b3906c35c0a4",
   "metadata": {},
   "outputs": [],
   "source": [
    "# imports\n",
    "\n",
    "import os\n",
    "import requests\n",
    "from dotenv import load_dotenv\n",
    "from bs4 import BeautifulSoup\n",
    "from IPython.display import Markdown, display\n",
    "from openai import OpenAI"
   ]
  },
  {
   "cell_type": "code",
   "execution_count": 12,
   "id": "56fb5852",
   "metadata": {},
   "outputs": [],
   "source": [
    "# A class to represent a Webpage\n",
    "# If you're not familiar with Classes, check out the \"Intermediate Python\" notebook\n",
    "\n",
    "# Some websites need you to use proper headers when fetching them:\n",
    "headers = {\n",
    " \"User-Agent\": \"Mozilla/5.0 (Windows NT 10.0; Win64; x64) AppleWebKit/537.36 (KHTML, like Gecko) Chrome/117.0.0.0 Safari/537.36\"\n",
    "}\n",
    "\n",
    "class Website:\n",
    "    def __init__(self, url):\n",
    "        \"\"\"\n",
    "        Create this Website object from the given url using the BeautifulSoup library\n",
    "        \"\"\"\n",
    "        self.url = url\n",
    "        response = requests.get(url, headers=headers)\n",
    "        soup = BeautifulSoup(response.content, 'html.parser')\n",
    "        self.title = soup.title.string if soup.title else \"No title found\"\n",
    "        for irrelevant in soup.body([\"script\", \"style\", \"img\", \"input\"]):\n",
    "            irrelevant.decompose()\n",
    "        self.text = soup.body.get_text(separator=\"\\n\", strip=True)"
   ]
  },
  {
   "cell_type": "code",
   "execution_count": 13,
   "id": "08a4c1bc",
   "metadata": {},
   "outputs": [],
   "source": [
    "# Define our system prompt - you can experiment with this later, changing the last sentence to 'Respond in markdown in Spanish.\"\n",
    "\n",
    "system_prompt = (\n",
    "    \"You are an assistant that analyzes the contents of a website\"\n",
    "    \"and provides a short summary, ignoring text that might be navigation related.\"\n",
    "    \"Respond in markdown.\"\n",
    ")"
   ]
  },
  {
   "cell_type": "code",
   "execution_count": 14,
   "id": "70491637",
   "metadata": {},
   "outputs": [],
   "source": [
    "# A function that writes a User Prompt that asks for summaries of websites:\n",
    "\n",
    "def user_prompt_for(website):\n",
    "    user_prompt = f\"You are looking at a website titled {website.title}\"\n",
    "    user_prompt += (\n",
    "        \"\\nThe contents of this website is as follows;\"\n",
    "        \"please provide a short summary of this website in markdown.\"\n",
    "        \"If it includes news or announcements, then summarize these too.\\n\\n\"\n",
    "    )\n",
    "    user_prompt += website.text\n",
    "    return user_prompt"
   ]
  },
  {
   "cell_type": "code",
   "execution_count": 15,
   "id": "4f878c86",
   "metadata": {},
   "outputs": [],
   "source": [
    "# See how this function creates exactly the format above\n",
    "\n",
    "def messages_for(website):\n",
    "    return [\n",
    "        {\"role\": \"system\", \"content\": system_prompt},\n",
    "        {\"role\": \"user\", \"content\": user_prompt_for(website)}\n",
    "    ]"
   ]
  },
  {
   "cell_type": "code",
   "execution_count": 16,
   "id": "29c22417",
   "metadata": {},
   "outputs": [],
   "source": [
    "# And now: call the OpenAI API. You will get very familiar with this!\n",
    "\n",
    "def summarize(url):\n",
    "    website = Website(url)\n",
    "    ollama_via_openai = OpenAI(base_url='http://localhost:11434/v1', api_key='ollama')\n",
    "    response = ollama_via_openai.chat.completions.create(\n",
    "        model=MODEL,\n",
    "        messages=messages_for(website)\n",
    "    )\n",
    "    return response.choices[0].message.content"
   ]
  },
  {
   "cell_type": "code",
   "execution_count": 17,
   "id": "953f504a",
   "metadata": {},
   "outputs": [],
   "source": [
    "# A function to display this nicely in the Jupyter output, using markdown\n",
    "\n",
    "def display_summary(url):\n",
    "    summary = summarize(url)\n",
    "    display(Markdown(summary))"
   ]
  },
  {
   "cell_type": "code",
   "execution_count": 18,
   "id": "e440c83c",
   "metadata": {},
   "outputs": [
    {
     "data": {
      "text/markdown": [
       "**Summary**\n",
       "================\n",
       "\n",
       "The website \"Home - Edward Donner\" appears to be a personal blog or podcast hosted by Edward Donner, the co-founder and CTO of Nebula.io. The website showcases his interests in LLMs (Large Language Models) and AI, as well as his background in technology entrepreneurship.\n",
       "\n",
       "**News/Announcements**\n",
       "-----------------------\n",
       "\n",
       "* **December 21, 2024**: \"Welcome, SuperDataScientists!\" - possibly a newsletter or announcement to introduce new followers/subscribers.\n",
       "* **November 13, 2024**: \"Mastering AI and LLM Engineering – Resources\" - an announcement related to a new resource center or article series.\n",
       "* **October 16, 2024**: \"From Software Engineer to AI Data Scientist – resources\" - another announcement similar to the previous one.\n",
       "* **August 6, 2024**: \"Outsmart LLM Arena – a battle of diplomacy and deviousness\" - an introduction to a new project or initiative, \"Outsmart LLM Arena\", which seems to be a competition between AI models.\n",
       "\n",
       "Note: The Outsmart LLM Arena is also mentioned as a navigation menu item on the website, but considering its context as a news/article announcement, it's likely that this is where we find more information about the arena."
      ],
      "text/plain": [
       "<IPython.core.display.Markdown object>"
      ]
     },
     "metadata": {},
     "output_type": "display_data"
    }
   ],
   "source": [
    "display_summary(\"https://edwarddonner.com\")"
   ]
  }
 ],
 "metadata": {
  "kernelspec": {
   "display_name": "llmeng",
   "language": "python",
   "name": "python3"
  },
  "language_info": {
   "codemirror_mode": {
    "name": "ipython",
    "version": 3
   },
   "file_extension": ".py",
   "mimetype": "text/x-python",
   "name": "python",
   "nbconvert_exporter": "python",
   "pygments_lexer": "ipython3",
   "version": "3.12.8"
  }
 },
 "nbformat": 4,
 "nbformat_minor": 5
}
